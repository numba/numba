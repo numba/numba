{
 "cells": [
  {
   "cell_type": "markdown",
   "metadata": {},
   "source": [
    "I always enjoy showing people how much easier Numba makes it to speed up their NumPy-based technical codes.   With Numba, you usually can just write the code with loops and then add a decorator to your function and get speed-ups equivalent to having written the code in another compiled language (like C or Fortran).  \n",
    "\n",
    "Tonight when I saw this question on Stack Exchange: http://scicomp.stackexchange.com/questions/5473/how-to-express-this-complicated-expression-using-numpy-slices it looked like a perfect opportunity to test Numba again.\n",
    "\n",
    "So, I copied the looped_ver code from Nat Wilson (modified it slightly to make x[0] = 0) and then decorated it to let Numba compile the code.  The result continues to impress me about the code that Mark Florisson, Jon Riehl, and Siu Kwan Lam have put together.  Here is the equation that is being solved:\n",
    "\n",
    "$$\\displaystyle x_i = \\sum_{j=0}^{i-1} k_{i-j} a_{i-j} a_{j}$$\n"
   ]
  },
  {
   "cell_type": "code",
   "execution_count": 1,
   "metadata": {
    "collapsed": false
   },
   "outputs": [
    {
     "name": "stdout",
     "output_type": "stream",
     "text": [
      "Populating the interactive namespace from numpy and matplotlib\n"
     ]
    }
   ],
   "source": [
    "%pylab inline"
   ]
  },
  {
   "cell_type": "code",
   "execution_count": 2,
   "metadata": {
    "collapsed": false
   },
   "outputs": [],
   "source": [
    "import numpy as np\n",
    "from numba import jit\n",
    "\n",
    "def looped_ver(k, a):\n",
    "    x = np.empty_like(a)\n",
    "    x[0] = 0.0\n",
    "    for i in range(1, x.size):\n",
    "        sm = 0.0\n",
    "        for j in range(0, i):\n",
    "            sm += k[i-j,j] * a[i-j] * a[j]\n",
    "        x[i] = sm\n",
    "    return x\n",
    "\n",
    "typed_ver = jit('f8[:](f8[:,:],f8[:])')(looped_ver)\n",
    "auto_ver = jit(looped_ver)"
   ]
  },
  {
   "cell_type": "code",
   "execution_count": 3,
   "metadata": {
    "collapsed": false
   },
   "outputs": [],
   "source": [
    "import time\n",
    "import numpy as np\n",
    "repeat = 3\n",
    "\n",
    "def getbest(func, *args):\n",
    "    import time\n",
    "    best = 1e12\n",
    "    for i in range(repeat):\n",
    "        start = time.time()\n",
    "        func(*args)\n",
    "        current = time.time() - start\n",
    "        if current < best:\n",
    "            best = current\n",
    "    return best\n",
    "    \n",
    "\n",
    "def timeit(N):\n",
    "    res = {'looped':[], 'auto':[], 'typed':[]}\n",
    "    for n in N:\n",
    "        k = np.random.rand(n,n)\n",
    "        a = np.random.rand(n)\n",
    "        for version in ['looped', 'auto', 'typed']:\n",
    "            func = eval('%s_ver' % version)\n",
    "            res[version].append(getbest(func, k, a))\n",
    "    return res"
   ]
  },
  {
   "cell_type": "code",
   "execution_count": 4,
   "metadata": {
    "collapsed": false
   },
   "outputs": [],
   "source": [
    "N = [100,200,500,1000,5000]\n",
    "res = timeit(N)"
   ]
  },
  {
   "cell_type": "code",
   "execution_count": 5,
   "metadata": {
    "collapsed": false
   },
   "outputs": [
    {
     "data": {
      "text/plain": [
       "<matplotlib.text.Text at 0x10f220b70>"
      ]
     },
     "execution_count": 5,
     "metadata": {},
     "output_type": "execute_result"
    },
    {
     "data": {
      "image/png": "[encoded data removed]",
      "text/plain": [
       "<matplotlib.figure.Figure at 0x10efbb080>"
      ]
     },
     "metadata": {},
     "output_type": "display_data"
    }
   ],
   "source": [
    "plot(N, log10(res['typed']), N, log10(res['auto']), N, log10(res['looped']))\n",
    "legend(['Typed', 'Autojit', 'Python'], loc='upper left')\n",
    "ylabel(r'$\\log_{10}$(time) in seconds')\n",
    "xlabel('Size (N)')"
   ]
  },
  {
   "cell_type": "code",
   "execution_count": 6,
   "metadata": {
    "collapsed": false
   },
   "outputs": [
    {
     "data": {
      "text/plain": [
       "[327.2894736842105,\n",
       " 346.6474820143885,\n",
       " 327.77878787878785,\n",
       " 120.89588528678304,\n",
       " 65.31371303785903]"
      ]
     },
     "execution_count": 6,
     "metadata": {},
     "output_type": "execute_result"
    }
   ],
   "source": [
    "[res['looped'][i]/res['auto'][i] for i in range(len(N))]"
   ]
  },
  {
   "cell_type": "code",
   "execution_count": 7,
   "metadata": {
    "collapsed": false
   },
   "outputs": [
    {
     "name": "stdout",
     "output_type": "stream",
     "text": [
      "0.29.0.dev+17.g1c27118.dirty\n"
     ]
    }
   ],
   "source": [
    "import numba\n",
    "print(numba.__version__)"
   ]
  },
  {
   "cell_type": "markdown",
   "metadata": {},
   "source": [
    "This was run on a Macbook Pro.   Running `sysctl -n machdep.cpu.brand_string` resulted in:\n",
    "\n",
    "   Intel(R) Core(TM) i7-3720QM CPU @ 2.60GHz"
   ]
  }
 ],
 "metadata": {
  "anaconda-cloud": {},
  "kernelspec": {
   "display_name": "Python [default]",
   "language": "python",
   "name": "python3"
  },
  "language_info": {
   "codemirror_mode": {
    "name": "ipython",
    "version": 3
   },
   "file_extension": ".py",
   "mimetype": "text/x-python",
   "name": "python",
   "nbconvert_exporter": "python",
   "pygments_lexer": "ipython3",
   "version": "3.5.1"
  }
 },
 "nbformat": 4,
 "nbformat_minor": 0
}
